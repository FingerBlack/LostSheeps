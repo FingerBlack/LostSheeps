{
  "nbformat": 4,
  "nbformat_minor": 0,
  "metadata": {
    "colab": {
      "provenance": []
    },
    "kernelspec": {
      "name": "python3",
      "display_name": "Python 3"
    },
    "language_info": {
      "name": "python"
    }
  },
  "cells": [
    {
      "cell_type": "markdown",
      "source": [
        "# Example Graphs"
      ],
      "metadata": {
        "id": "6ByPM8wrTJNP"
      }
    },
    {
      "cell_type": "markdown",
      "source": [
        "## Metric 1 Death Count"
      ],
      "metadata": {
        "id": "IjgcrcL1TPK0"
      }
    },
    {
      "cell_type": "code",
      "execution_count": null,
      "metadata": {
        "colab": {
          "base_uri": "https://localhost:8080/",
          "height": 295
        },
        "id": "oLbAei9LeNNJ",
        "outputId": "5a223d70-d65c-4c70-fa78-acf7ac386fe2"
      },
      "outputs": [
        {
          "output_type": "display_data",
          "data": {
            "text/plain": [
              "<Figure size 432x288 with 1 Axes>"
            ],
            "image/png": "[encoded data removed]"
          },
          "metadata": {
            "needs_background": "light"
          }
        }
      ],
      "source": [
        "import pandas as pd\n",
        "import matplotlib.pyplot as plt\n",
        "import numpy as np\n",
        "data=pd.read_csv('data.csv') \n",
        "\n",
        "plt.hist(x=data.death_count,bins=np.arange(7+1)-0.5,\n",
        "        color=\"steelblue\",\n",
        "        edgecolor=\"black\")\n",
        "\n",
        "plt.xlabel(\"Death Count\")\n",
        "plt.ylabel(\"Player Number\")\n",
        "\n",
        "plt.title(\"Number of Deaths in the Game\")\n",
        "plt.savefig('./death_count.png', format='png')\n",
        "plt.show()\n"
      ]
    },
    {
      "cell_type": "markdown",
      "source": [
        "## Metric 2 Playing Time"
      ],
      "metadata": {
        "id": "FLrzBSfITUSy"
      }
    },
    {
      "cell_type": "code",
      "source": [
        "import pandas as pd\n",
        "import matplotlib.pyplot as plt\n",
        "import numpy as np\n",
        "from scipy.stats import truncnorm\n",
        "\n",
        "def get_truncated_normal(mean=0, sd=1, low=0, upp=10):\n",
        "    return truncnorm(\n",
        "        (low - mean) / sd, (upp - mean) / sd, loc=mean, scale=sd)\n",
        "game_hours=get_truncated_normal(1,1,0,3).rvs(1000)\n",
        "data['game_hours']=game_hours\n"
      ],
      "metadata": {
        "id": "UFhzWdbfk3m5"
      },
      "execution_count": null,
      "outputs": []
    },
    {
      "cell_type": "code",
      "source": [
        "plt.hist(x=data.game_hours,bins=10,\n",
        "        color=\"steelblue\",\n",
        "        edgecolor=\"black\")\n",
        "\n",
        "plt.xlabel(\"Game Hours\")\n",
        "plt.ylabel(\"Player Number\")\n",
        "\n",
        "plt.title(\"Hours Each Player Spent in Game \")\n",
        "plt.savefig('./game_hours.png', format='png')\n",
        "plt.show()\n"
      ],
      "metadata": {
        "colab": {
          "base_uri": "https://localhost:8080/",
          "height": 295
        },
        "id": "eLG4H3uVmxMm",
        "outputId": "84ca1c80-4d86-4841-ac5f-b907804f7d69"
      },
      "execution_count": null,
      "outputs": [
        {
          "output_type": "display_data",
          "data": {
            "text/plain": [
              "<Figure size 432x288 with 1 Axes>"
            ],
            "image/png": "[encoded data removed]"
          },
          "metadata": {
            "needs_background": "light"
          }
        }
      ]
    },
    {
      "cell_type": "markdown",
      "source": [
        "# Real Data"
      ],
      "metadata": {
        "id": "lwKYLLl-TYzX"
      }
    },
    {
      "cell_type": "markdown",
      "source": [
        "## Connecting Database"
      ],
      "metadata": {
        "id": "zGtindPTLyFg"
      }
    },
    {
      "cell_type": "code",
      "source": [
        "!pip install pyrebase"
      ],
      "metadata": {
        "colab": {
          "base_uri": "https://localhost:8080/"
        },
        "id": "tynz7-HKP198",
        "outputId": "d38e074a-623b-491a-899d-eb0406ad161e"
      },
      "execution_count": 23,
      "outputs": [
        {
          "output_type": "stream",
          "name": "stdout",
          "text": [
            "Looking in indexes: https://pypi.org/simple, https://us-python.pkg.dev/colab-wheels/public/simple/\n",
            "Requirement already satisfied: pyrebase in /usr/local/lib/python3.8/dist-packages (3.0.27)\n",
            "Requirement already satisfied: python-jwt==2.0.1 in /usr/local/lib/python3.8/dist-packages (from pyrebase) (2.0.1)\n",
            "Requirement already satisfied: requests==2.11.1 in /usr/local/lib/python3.8/dist-packages (from pyrebase) (2.11.1)\n",
            "Requirement already satisfied: gcloud==0.17.0 in /usr/local/lib/python3.8/dist-packages (from pyrebase) (0.17.0)\n",
            "Requirement already satisfied: pycryptodome==3.4.3 in /usr/local/lib/python3.8/dist-packages (from pyrebase) (3.4.3)\n",
            "Requirement already satisfied: requests-toolbelt==0.7.0 in /usr/local/lib/python3.8/dist-packages (from pyrebase) (0.7.0)\n",
            "Requirement already satisfied: oauth2client==3.0.0 in /usr/local/lib/python3.8/dist-packages (from pyrebase) (3.0.0)\n",
            "Requirement already satisfied: six in /usr/local/lib/python3.8/dist-packages (from gcloud==0.17.0->pyrebase) (1.15.0)\n",
            "Requirement already satisfied: httplib2>=0.9.1 in /usr/local/lib/python3.8/dist-packages (from gcloud==0.17.0->pyrebase) (0.17.4)\n",
            "Requirement already satisfied: googleapis-common-protos in /usr/local/lib/python3.8/dist-packages (from gcloud==0.17.0->pyrebase) (1.58.0)\n",
            "Requirement already satisfied: protobuf!=3.0.0.b2.post1,>=3.0.0b2 in /usr/local/lib/python3.8/dist-packages (from gcloud==0.17.0->pyrebase) (3.19.6)\n",
            "Requirement already satisfied: pyasn1>=0.1.7 in /usr/local/lib/python3.8/dist-packages (from oauth2client==3.0.0->pyrebase) (0.4.8)\n",
            "Requirement already satisfied: rsa>=3.1.4 in /usr/local/lib/python3.8/dist-packages (from oauth2client==3.0.0->pyrebase) (4.9)\n",
            "Requirement already satisfied: pyasn1-modules>=0.0.5 in /usr/local/lib/python3.8/dist-packages (from oauth2client==3.0.0->pyrebase) (0.2.8)\n",
            "Requirement already satisfied: jws>=0.1.3 in /usr/local/lib/python3.8/dist-packages (from python-jwt==2.0.1->pyrebase) (0.1.3)\n"
          ]
        }
      ]
    },
    {
      "cell_type": "code",
      "source": [
        "#pull data from database\n",
        "import pyrebase\n",
        "import pandas as pd\n",
        "# Configure your Firebase project\n",
        "config = {\n",
        "  \"apiKey\": \"YOUR_API_KEY\",\n",
        "  \"authDomain\": \"lostsheeps-26b16.firebaseapp.com\",\n",
        "  \"databaseURL\": \"https://lostsheeps-26b16-default-rtdb.firebaseio.com/\",\n",
        "  \"storageBucket\": \"lostsheeps-26b16.appspot.com\"\n",
        "}\n",
        "\n",
        "# Initialize the Pyrebase app\n",
        "firebase = pyrebase.initialize_app(config)\n",
        "\n",
        "# Get a reference to the database\n",
        "db = firebase.database()"
      ],
      "metadata": {
        "id": "FO2ZWOyH2WmU"
      },
      "execution_count": null,
      "outputs": []
    },
    {
      "cell_type": "markdown",
      "source": [
        "## Metric 1 Death Count"
      ],
      "metadata": {
        "id": "5MdbRH5kToEi"
      }
    },
    {
      "cell_type": "code",
      "source": [
        "\n",
        "\n",
        "# Retrieve data from the database\n",
        "data = db.child(\"deathData\").get()\n",
        "\n",
        "# Print the retrieved data\n",
        "death_data=data.val()\n",
        "\n",
        "df = pd.DataFrame(death_data)\n",
        "df=df.T"
      ],
      "metadata": {
        "id": "jw3oe4RHPFWw"
      },
      "execution_count": 27,
      "outputs": []
    },
    {
      "cell_type": "code",
      "source": [
        "user_death_frequency=df.groupby('userID').size().tolist()"
      ],
      "metadata": {
        "id": "TV5_hmB9Ts0Z"
      },
      "execution_count": 35,
      "outputs": []
    },
    {
      "cell_type": "code",
      "source": [
        "import matplotlib.pyplot as plt\n",
        "import numpy as np\n",
        "plt.hist(x=user_death_frequency,bins=np.arange(7+1)-0.5,\n",
        "        color=\"steelblue\",\n",
        "        edgecolor=\"black\")\n",
        "\n",
        "plt.xlabel(\"Death Count\")\n",
        "plt.ylabel(\"Player Number\")\n",
        "\n",
        "plt.title(\"Number of Deaths in the Game\")\n",
        "plt.savefig('./death_count.png', format='png')\n",
        "\n",
        "plt.show()"
      ],
      "metadata": {
        "colab": {
          "base_uri": "https://localhost:8080/",
          "height": 295
        },
        "id": "F8-Z7J2traKo",
        "outputId": "f3cdd3f0-2207-4f43-d016-10ecf1351a44"
      },
      "execution_count": 37,
      "outputs": [
        {
          "output_type": "display_data",
          "data": {
            "text/plain": [
              "<Figure size 432x288 with 1 Axes>"
            ],
            "image/png": "[encoded data removed]"
          },
          "metadata": {
            "needs_background": "light"
          }
        }
      ]
    },
    {
      "cell_type": "markdown",
      "source": [
        "## Metric 2 Playing Time"
      ],
      "metadata": {
        "id": "kIJ7f59E13Vk"
      }
    },
    {
      "cell_type": "code",
      "source": [
        "import matplotlib.pyplot as plt\n",
        "import numpy as np\n",
        "from datetime import datetime\n",
        "def strtodate(x):\n",
        "  return datetime.strptime(x, \"%Y-%m-%d %H:%M:%S\")\n",
        "def datetosec(x):\n",
        "  return x.total_seconds()\n",
        "# Retrieve data from the database\n",
        "data = db.child(\"playTime\").get()\n",
        "\n",
        "# Print the retrieved data\n",
        "death_data=data.val()\n",
        "\n",
        "df = pd.DataFrame(death_data)\n",
        "df=df.T\n",
        "\n",
        "df['playingTime']=df['end'].apply(strtodate)-df['start'].apply(strtodate)\n",
        "df['playingTime']=df['playingTime'].apply(datetosec)\n",
        "user_playingtime_frequency=df['playingTime'].tolist()\n",
        "\n",
        "import matplotlib.pyplot as plt\n",
        "import numpy as np\n",
        "plt.hist(x=user_playingtime_frequency,bins=10,\n",
        "        color=\"steelblue\",\n",
        "        edgecolor=\"black\")\n",
        "\n",
        "plt.xlabel(\"Playing Time in Seconds\")\n",
        "plt.ylabel(\"Player Number\")\n",
        "\n",
        "plt.title(\"Playing Time Frequency\")\n",
        "plt.savefig('./playing_time.png', format='png')\n",
        "plt.show()"
      ],
      "metadata": {
        "colab": {
          "base_uri": "https://localhost:8080/",
          "height": 295
        },
        "id": "bWPF7PCg1w6Q",
        "outputId": "cef95246-1c81-445d-bce0-8d24df1774d1"
      },
      "execution_count": 67,
      "outputs": [
        {
          "output_type": "display_data",
          "data": {
            "text/plain": [
              "<Figure size 432x288 with 1 Axes>"
            ],
            "image/png": "[encoded data removed]"
          },
          "metadata": {
            "needs_background": "light"
          }
        }
      ]
    }
  ]
}