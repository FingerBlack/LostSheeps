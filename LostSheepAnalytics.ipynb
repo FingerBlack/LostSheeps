{
  "nbformat": 4,
  "nbformat_minor": 0,
  "metadata": {
    "colab": {
      "provenance": []
    },
    "kernelspec": {
      "name": "python3",
      "display_name": "Python 3"
    },
    "language_info": {
      "name": "python"
    }
  },
  "cells": [
    {
      "cell_type": "markdown",
      "source": [
        "# Example Graphs"
      ],
      "metadata": {
        "id": "6ByPM8wrTJNP"
      }
    },
    {
      "cell_type": "markdown",
      "source": [
        "## Metric 1 Death Count"
      ],
      "metadata": {
        "id": "IjgcrcL1TPK0"
      }
    },
    {
      "cell_type": "code",
      "execution_count": null,
      "metadata": {
        "colab": {
          "base_uri": "https://localhost:8080/",
          "height": 295
        },
        "id": "oLbAei9LeNNJ",
        "outputId": "5a223d70-d65c-4c70-fa78-acf7ac386fe2"
      },
      "outputs": [
        {
          "output_type": "display_data",
          "data": {
            "text/plain": [
              "<Figure size 432x288 with 1 Axes>"
            ],
            "image/png": "[encoded data removed]"
          },
          "metadata": {
            "needs_background": "light"
          }
        }
      ],
      "source": [
        "import pandas as pd\n",
        "import matplotlib.pyplot as plt\n",
        "import numpy as np\n",
        "data=pd.read_csv('data.csv') \n",
        "\n",
        "plt.hist(x=data.death_count,bins=np.arange(7+1)-0.5,\n",
        "        color=\"steelblue\",\n",
        "        edgecolor=\"black\")\n",
        "\n",
        "plt.xlabel(\"Death Count\")\n",
        "plt.ylabel(\"Player Number\")\n",
        "\n",
        "plt.title(\"Number of Deaths in the Game\")\n",
        "plt.savefig('./death_count.png', format='png')\n",
        "plt.show()\n"
      ]
    },
    {
      "cell_type": "markdown",
      "source": [
        "## Metric 2 Playing Time"
      ],
      "metadata": {
        "id": "FLrzBSfITUSy"
      }
    },
    {
      "cell_type": "code",
      "source": [
        "import pandas as pd\n",
        "import matplotlib.pyplot as plt\n",
        "import numpy as np\n",
        "from scipy.stats import truncnorm\n",
        "\n",
        "def get_truncated_normal(mean=0, sd=1, low=0, upp=10):\n",
        "    return truncnorm(\n",
        "        (low - mean) / sd, (upp - mean) / sd, loc=mean, scale=sd)\n",
        "game_hours=get_truncated_normal(1,1,0,3).rvs(1000)\n",
        "data['game_hours']=game_hours\n"
      ],
      "metadata": {
        "id": "UFhzWdbfk3m5"
      },
      "execution_count": null,
      "outputs": []
    },
    {
      "cell_type": "code",
      "source": [
        "plt.hist(x=data.game_hours,bins=10,\n",
        "        color=\"steelblue\",\n",
        "        edgecolor=\"black\")\n",
        "\n",
        "plt.xlabel(\"Game Hours\")\n",
        "plt.ylabel(\"Player Number\")\n",
        "\n",
        "plt.title(\"Hours Each Player Spent in Game \")\n",
        "plt.savefig('./game_hours.png', format='png')\n",
        "plt.show()\n"
      ],
      "metadata": {
        "colab": {
          "base_uri": "https://localhost:8080/",
          "height": 295
        },
        "id": "eLG4H3uVmxMm",
        "outputId": "84ca1c80-4d86-4841-ac5f-b907804f7d69"
      },
      "execution_count": null,
      "outputs": [
        {
          "output_type": "display_data",
          "data": {
            "text/plain": [
              "<Figure size 432x288 with 1 Axes>"
            ],
            "image/png": "[encoded data removed]"
          },
          "metadata": {
            "needs_background": "light"
          }
        }
      ]
    },
    {
      "cell_type": "markdown",
      "source": [
        "#Metric 3 Plant Used"
      ],
      "metadata": {
        "id": "EzCMJcwX9cJD"
      }
    },
    {
      "cell_type": "code",
      "execution_count": null,
      "metadata": {
        "colab": {
          "base_uri": "https://localhost:8080/",
          "height": 295
        },
        "outputId": "2e5d75d6-6e1b-4f1f-8ac5-64a0a849d4d6",
        "id": "3-NVG8bM9a3R"
      },
      "outputs": [
        {
          "output_type": "display_data",
          "data": {
            "text/plain": [
              "<Figure size 432x288 with 1 Axes>"
            ],
            "image/png": "[encoded data removed]"
          },
          "metadata": {
            "needs_background": "light"
          }
        }
      ],
      "source": [
        "import pandas as pd\n",
        "import matplotlib.pyplot as plt\n",
        "import numpy as np\n",
        "data=pd.read_csv('data.csv') \n",
        "\n",
        "plt.hist(x=data.plant_count,bins=np.arange(5+1)-0.5,\n",
        "        color=\"steelblue\",\n",
        "        edgecolor=\"black\")\n",
        "\n",
        "plt.xlabel(\"Plant Count\")\n",
        "plt.ylabel(\"Player Number\")\n",
        "\n",
        "plt.title(\"Number of Plant in the Game\")\n",
        "plt.savefig('./plant_count.png', format='png')\n",
        "plt.show()\n"
      ]
    },
    {
      "cell_type": "markdown",
      "source": [
        "#Metric 4 Combo Used"
      ],
      "metadata": {
        "id": "FpygxdiW_3nf"
      }
    },
    {
      "cell_type": "code",
      "execution_count": null,
      "metadata": {
        "colab": {
          "base_uri": "https://localhost:8080/",
          "height": 295
        },
        "outputId": "9b6c20f0-886a-40ec-f555-91adacd0a784",
        "id": "K8RloQZ5_hvB"
      },
      "outputs": [
        {
          "output_type": "display_data",
          "data": {
            "text/plain": [
              "<Figure size 432x288 with 1 Axes>"
            ],
            "image/png": "[encoded data removed]"
          },
          "metadata": {
            "needs_background": "light"
          }
        }
      ],
      "source": [
        "import pandas as pd\n",
        "import matplotlib.pyplot as plt\n",
        "import numpy as np\n",
        "data=pd.read_csv('data.csv') \n",
        "\n",
        "plt.hist(x=data.combo_used,bins=np.arange(5+1)-0.5,\n",
        "        color=\"steelblue\",\n",
        "        edgecolor=\"black\")\n",
        "\n",
        "plt.xlabel(\"Combo Count\")\n",
        "plt.ylabel(\"Player Number\")\n",
        "\n",
        "plt.title(\"Number of Combo Used in the Game\")\n",
        "plt.savefig('./combo_count.png', format='png')\n",
        "plt.show()\n"
      ]
    },
    {
      "cell_type": "markdown",
      "source": [
        "# Real Data"
      ],
      "metadata": {
        "id": "lwKYLLl-TYzX"
      }
    },
    {
      "cell_type": "markdown",
      "source": [
        "## Connecting Database"
      ],
      "metadata": {
        "id": "zGtindPTLyFg"
      }
    },
    {
      "cell_type": "code",
      "source": [
        "!pip install pyrebase\n",
        "#pull data from database\n",
        "import pyrebase\n",
        "import pandas as pd\n",
        "# Configure your Firebase project\n",
        "config = {\n",
        "  \"apiKey\": \"YOUR_API_KEY\",\n",
        "  \"authDomain\": \"lostsheeps-26b16.firebaseapp.com\",\n",
        "  \"databaseURL\": \"https://lostsheeps-26b16-default-rtdb.firebaseio.com/\",\n",
        "  \"storageBucket\": \"lostsheeps-26b16.appspot.com\"\n",
        "}\n",
        "\n",
        "# Initialize the Pyrebase app\n",
        "firebase = pyrebase.initialize_app(config)\n",
        "\n",
        "# Get a reference to the database\n",
        "db = firebase.database()"
      ],
      "metadata": {
        "colab": {
          "base_uri": "https://localhost:8080/"
        },
        "id": "tynz7-HKP198",
        "outputId": "b0474656-73af-4031-db84-35dfefa257e4"
      },
      "execution_count": 2,
      "outputs": [
        {
          "output_type": "stream",
          "name": "stdout",
          "text": [
            "Looking in indexes: https://pypi.org/simple, https://us-python.pkg.dev/colab-wheels/public/simple/\n",
            "Requirement already satisfied: pyrebase in /usr/local/lib/python3.8/dist-packages (3.0.27)\n",
            "Requirement already satisfied: requests-toolbelt==0.7.0 in /usr/local/lib/python3.8/dist-packages (from pyrebase) (0.7.0)\n",
            "Requirement already satisfied: python-jwt==2.0.1 in /usr/local/lib/python3.8/dist-packages (from pyrebase) (2.0.1)\n",
            "Requirement already satisfied: pycryptodome==3.4.3 in /usr/local/lib/python3.8/dist-packages (from pyrebase) (3.4.3)\n",
            "Requirement already satisfied: oauth2client==3.0.0 in /usr/local/lib/python3.8/dist-packages (from pyrebase) (3.0.0)\n",
            "Requirement already satisfied: requests==2.11.1 in /usr/local/lib/python3.8/dist-packages (from pyrebase) (2.11.1)\n",
            "Requirement already satisfied: gcloud==0.17.0 in /usr/local/lib/python3.8/dist-packages (from pyrebase) (0.17.0)\n",
            "Requirement already satisfied: protobuf!=3.0.0.b2.post1,>=3.0.0b2 in /usr/local/lib/python3.8/dist-packages (from gcloud==0.17.0->pyrebase) (3.19.6)\n",
            "Requirement already satisfied: six in /usr/local/lib/python3.8/dist-packages (from gcloud==0.17.0->pyrebase) (1.15.0)\n",
            "Requirement already satisfied: httplib2>=0.9.1 in /usr/local/lib/python3.8/dist-packages (from gcloud==0.17.0->pyrebase) (0.17.4)\n",
            "Requirement already satisfied: googleapis-common-protos in /usr/local/lib/python3.8/dist-packages (from gcloud==0.17.0->pyrebase) (1.58.0)\n",
            "Requirement already satisfied: rsa>=3.1.4 in /usr/local/lib/python3.8/dist-packages (from oauth2client==3.0.0->pyrebase) (4.9)\n",
            "Requirement already satisfied: pyasn1-modules>=0.0.5 in /usr/local/lib/python3.8/dist-packages (from oauth2client==3.0.0->pyrebase) (0.2.8)\n",
            "Requirement already satisfied: pyasn1>=0.1.7 in /usr/local/lib/python3.8/dist-packages (from oauth2client==3.0.0->pyrebase) (0.4.8)\n",
            "Requirement already satisfied: jws>=0.1.3 in /usr/local/lib/python3.8/dist-packages (from python-jwt==2.0.1->pyrebase) (0.1.3)\n"
          ]
        }
      ]
    },
    {
      "cell_type": "markdown",
      "source": [
        "## Metric 1 Death Count"
      ],
      "metadata": {
        "id": "5MdbRH5kToEi"
      }
    },
    {
      "cell_type": "code",
      "source": [
        "\n",
        "\n",
        "# Retrieve data from the database\n",
        "data = db.child(\"deathData\").get()\n",
        "\n",
        "# Print the retrieved data\n",
        "death_data=data.val()\n",
        "\n",
        "df = pd.DataFrame(death_data)\n",
        "df=df.T\n",
        "user_death_frequency=df.groupby('userID').size().tolist()\n",
        "import matplotlib.pyplot as plt\n",
        "import numpy as np\n",
        "plt.hist(x=user_death_frequency,bins=np.arange(7+1)-0.5,\n",
        "        color=\"steelblue\",\n",
        "        edgecolor=\"black\")\n",
        "\n",
        "plt.xlabel(\"Death Count\")\n",
        "plt.ylabel(\"Player Number\")\n",
        "\n",
        "plt.title(\"Number of Deaths in the Game\")\n",
        "plt.savefig('./death_count.png', format='png')\n",
        "\n",
        "plt.show()"
      ],
      "metadata": {
        "colab": {
          "base_uri": "https://localhost:8080/",
          "height": 295
        },
        "id": "jw3oe4RHPFWw",
        "outputId": "2b06bc4a-b694-41ec-8f82-185936af86ec"
      },
      "execution_count": null,
      "outputs": [
        {
          "output_type": "display_data",
          "data": {
            "text/plain": [
              "<Figure size 432x288 with 1 Axes>"
            ],
            "image/png": "[encoded data removed]"
          },
          "metadata": {
            "needs_background": "light"
          }
        }
      ]
    },
    {
      "cell_type": "markdown",
      "source": [
        "## Metric 2 Playing Time"
      ],
      "metadata": {
        "id": "kIJ7f59E13Vk"
      }
    },
    {
      "cell_type": "code",
      "source": [
        "import matplotlib.pyplot as plt\n",
        "import numpy as np\n",
        "from datetime import datetime\n",
        "def strtodate(x):\n",
        "  return datetime.strptime(x, \"%Y-%m-%d %H:%M:%S\")\n",
        "def datetosec(x):\n",
        "  return x.total_seconds()\n",
        "# Retrieve data from the database\n",
        "data = db.child(\"playTime\").get()\n",
        "\n",
        "# Print the retrieved data\n",
        "death_data=data.val()\n",
        "\n",
        "df = pd.DataFrame(death_data)\n",
        "df=df.T\n",
        "\n",
        "df['playingTime']=df['end'].apply(strtodate)-df['start'].apply(strtodate)\n",
        "df['playingTime']=df['playingTime'].apply(datetosec)\n",
        "user_playingtime_frequency=df['playingTime'].tolist()\n",
        "\n",
        "import matplotlib.pyplot as plt\n",
        "import numpy as np\n",
        "plt.hist(x=user_playingtime_frequency,bins=10,\n",
        "        color=\"steelblue\",\n",
        "        edgecolor=\"black\")\n",
        "\n",
        "plt.xlabel(\"Playing Time in Seconds\")\n",
        "plt.ylabel(\"Player Number\")\n",
        "\n",
        "plt.title(\"Playing Time Frequency\")\n",
        "plt.savefig('./playing_time.png', format='png')\n",
        "plt.show()"
      ],
      "metadata": {
        "colab": {
          "base_uri": "https://localhost:8080/",
          "height": 295
        },
        "id": "bWPF7PCg1w6Q",
        "outputId": "904819c5-2b89-4b5d-bbda-3ae0e98bb834"
      },
      "execution_count": null,
      "outputs": [
        {
          "output_type": "display_data",
          "data": {
            "text/plain": [
              "<Figure size 432x288 with 1 Axes>"
            ],
            "image/png": "[encoded data removed]"
          },
          "metadata": {
            "needs_background": "light"
          }
        }
      ]
    },
    {
      "cell_type": "markdown",
      "source": [
        "## Metric 1 (New) Death VS Time"
      ],
      "metadata": {
        "id": "h9JQz4Cj-HrD"
      }
    },
    {
      "cell_type": "code",
      "source": [
        "\n",
        "# Retrieve data from the database\n",
        "data = db.child(\"deathData\").get()\n",
        "\n",
        "# Print the retrieved data\n",
        "death_data=data.val()\n",
        "\n",
        "df = pd.DataFrame(death_data)\n",
        "df=df.T\n",
        "df=df[df['level']==\"4\"]\n",
        "def process(x):\n",
        "  a=float(x)\n",
        "  a=round(a,1)\n",
        "  return a\n",
        "df['Time']=df['levelTime'].apply(process)\n",
        "\n",
        "import matplotlib.pyplot as plt\n",
        "import numpy as np\n",
        "plt.hist(x=df['Time'],\n",
        "        color=\"steelblue\",\n",
        "        edgecolor=\"black\")\n",
        "\n",
        "plt.xlabel(\"Level Time\")\n",
        "plt.ylabel(\"No. of Death\")\n",
        "\n",
        "plt.title(\"Death VS Time in Level 4\")\n",
        "plt.savefig('./playing_time.png', format='png')\n",
        "plt.show()"
      ],
      "metadata": {
        "colab": {
          "base_uri": "https://localhost:8080/",
          "height": 295
        },
        "id": "_JqlvJVZ-G4_",
        "outputId": "95e76882-bd13-4c28-d46a-62fe9d24f038"
      },
      "execution_count": null,
      "outputs": [
        {
          "output_type": "display_data",
          "data": {
            "text/plain": [
              "<Figure size 432x288 with 1 Axes>"
            ],
            "image/png": "[encoded data removed]"
          },
          "metadata": {
            "needs_background": "light"
          }
        }
      ]
    },
    {
      "cell_type": "markdown",
      "source": [
        "## Metric 2 (New) Fail/Success Rates"
      ],
      "metadata": {
        "id": "JelvZMJ9WDkw"
      }
    },
    {
      "cell_type": "code",
      "source": [
        "data = db.child(\"playTime\").get()\n",
        "\n",
        "# Print the retrieved data\n",
        "plant_data=data.val()\n",
        "\n",
        "df = pd.DataFrame(plant_data)\n",
        "df=df.T\n",
        "\n",
        "def is_fail(x):\n",
        "  if x==\"Fail\":\n",
        "    return 1\n",
        "  return 0\n",
        "\n",
        "def is_success(x):\n",
        "  if x==\"Success\":\n",
        "    return 1\n",
        "  return 0\n",
        "df['is_success']=df['status'].apply(is_success)\n",
        "df['is_fail']=df['status'].apply(is_fail)\n",
        "\n",
        "df1=df[['level','is_fail']].groupby('level').sum()\n",
        "df2=df[['level','is_success']].groupby('level').sum()\n",
        "df=df1.join(df2)\n",
        "df=df.reset_index(drop=False)\n",
        "\n",
        "\n",
        "\n",
        "x = df['level']\n",
        "\n",
        "y1 = df['is_success']/(df['is_fail']+df['is_success'])\n",
        "y2 = df['is_fail']/(df['is_fail']+df['is_success'])\n",
        "\n",
        "plt.bar(x,y1,width=0.4,label='Success',color='#00bfc4',edgecolor='grey',zorder=5)\n",
        "plt.bar(x,y2,width=0.4,bottom=y1,label='Fail',color='#f9766e',edgecolor='grey',zorder=5)\n",
        "plt.tick_params(axis='x',length=0)\n",
        "plt.xlabel('LEVEL',fontsize=12)\n",
        "\n",
        "plt.ylim(0,1.01)\n",
        "plt.yticks(np.arange(0,1.2,0.2),[f'{i}%' for i in range(0,120,20)])\n",
        "plt.grid(axis='y',alpha=0.5,ls='--')\n",
        "\n",
        "plt.legend(frameon=False,bbox_to_anchor=(1.01,1))\n",
        "plt.tight_layout()\n",
        "plt.savefig('SuccessRates.png', dpi=600)\n",
        "plt.show()"
      ],
      "metadata": {
        "colab": {
          "base_uri": "https://localhost:8080/",
          "height": 297
        },
        "id": "9eW9MSf7WC3t",
        "outputId": "be93dbda-1102-459f-d7d1-7bbe6470a899"
      },
      "execution_count": 138,
      "outputs": [
        {
          "output_type": "display_data",
          "data": {
            "text/plain": [
              "<Figure size 432x288 with 1 Axes>"
            ],
            "image/png": "[encoded data removed]"
          },
          "metadata": {
            "needs_background": "light"
          }
        }
      ]
    },
    {
      "cell_type": "markdown",
      "source": [
        "## Metric 3 plantCount"
      ],
      "metadata": {
        "id": "KiGVgTSNoxuq"
      }
    },
    {
      "cell_type": "code",
      "source": [
        "#may need revise for recordID and userID\n",
        "data = db.child(\"plantData\").get()\n",
        "\n",
        "# Print the retrieved data\n",
        "plant_data=data.val()\n",
        "\n",
        "df = pd.DataFrame(plant_data)\n",
        "df=df.T\n",
        "df=df.loc[df[\"level\"]==\"5\"]\n",
        "\n",
        "\n",
        "data = db.child(\"playTime\").get()\n",
        "\n",
        "# Print the retrieved data\n",
        "plant_data=data.val()\n",
        "\n",
        "df2 = pd.DataFrame(plant_data)\n",
        "df2=df2.T\n",
        "df2=df2.loc[df2['level']==\"5\"]\n",
        "\n",
        "df3=df2.merge(df, on=('userID'), how='left')\n",
        "df3=df3.groupby('userID').count()\n",
        "df3['plantCount']=df3['plantName']\n",
        "df3=df3.reset_index(drop=False)\n",
        "df3=df3[['userID','plantCount']]\n",
        "\n",
        "import pandas as pd\n",
        "import matplotlib.pyplot as plt\n",
        "import numpy as np\n",
        "\n",
        "\n",
        "plt.hist(x=df3['plantCount'],bins=np.arange(0,df3['plantCount'].max()+1)-0.5,\n",
        "        color=\"steelblue\",\n",
        "        edgecolor=\"black\")\n",
        "\n",
        "plt.xlabel(\"Plant Count\")\n",
        "plt.ylabel(\"Player Number\")\n",
        "\n",
        "plt.title(\"Number of Plant in the Level 5\")\n",
        "plt.savefig('./plant_count.png', format='png')\n",
        "plt.show()"
      ],
      "metadata": {
        "id": "Xtv8pojfpQTk",
        "colab": {
          "base_uri": "https://localhost:8080/",
          "height": 295
        },
        "outputId": "63f26a89-4f74-426d-f868-09509cd40176"
      },
      "execution_count": 108,
      "outputs": [
        {
          "output_type": "display_data",
          "data": {
            "text/plain": [
              "<Figure size 432x288 with 1 Axes>"
            ],
            "image/png": "[encoded data removed]"
          },
          "metadata": {
            "needs_background": "light"
          }
        }
      ]
    },
    {
      "cell_type": "markdown",
      "source": [
        "## Metric 4"
      ],
      "metadata": {
        "id": "p2ohO0Rky3XY"
      }
    },
    {
      "cell_type": "code",
      "source": [
        "data = db.child(\"comboData\").get()\n",
        "\n",
        "# Print the retrieved data\n",
        "plant_data=data.val()\n",
        "\n",
        "df1 = pd.DataFrame(plant_data)\n",
        "df1=df1.T\n",
        "\n",
        "data = db.child(\"playTime\").get()\n",
        "\n",
        "# Print the retrieved data\n",
        "plant_data=data.val()\n",
        "\n",
        "df2 = pd.DataFrame(plant_data)\n",
        "df2=df2.T\n",
        "\n",
        "data=df2.merge(df1, on=('userID','level'), how='left')\n",
        "data=data.groupby(['level']).count()\n",
        "data['Combo']=data['comboName']\n",
        "data['NoCombo']=data['userID']-data['comboName']\n",
        "data=data[['Combo','NoCombo']]\n",
        "data=data.reset_index(drop=False)\n",
        "\n",
        "x = data['level']\n",
        "\n",
        "y1 = data['Combo']/(data['NoCombo']+data['Combo'])\n",
        "y2 = data['NoCombo']/(data['NoCombo']+data['Combo'])\n",
        "\n",
        "plt.bar(x,y1,width=0.4,label='Combo Used',color='#f9766e',edgecolor='grey',zorder=5)\n",
        "plt.bar(x,y2,width=0.4,bottom=y1,label='Combo Not Used',color='#00bfc4',edgecolor='grey',zorder=5)\n",
        "plt.tick_params(axis='x',length=0)\n",
        "plt.xlabel('LEVEL',fontsize=12)\n",
        "\n",
        "plt.ylim(0,1.01)\n",
        "plt.yticks(np.arange(0,1.2,0.2),[f'{i}%' for i in range(0,120,20)])\n",
        "plt.grid(axis='y',alpha=0.5,ls='--')\n",
        "\n",
        "plt.legend(frameon=False,bbox_to_anchor=(1.01,1))\n",
        "plt.tight_layout()\n",
        "plt.savefig('comboUsed.png', dpi=600)\n",
        "plt.show()"
      ],
      "metadata": {
        "id": "jMOiWHAcxUsV",
        "colab": {
          "base_uri": "https://localhost:8080/",
          "height": 297
        },
        "outputId": "0612f371-4750-4a32-e2b1-04b67872694d"
      },
      "execution_count": 109,
      "outputs": [
        {
          "output_type": "display_data",
          "data": {
            "text/plain": [
              "<Figure size 432x288 with 1 Axes>"
            ],
            "image/png": "[encoded data removed]"
          },
          "metadata": {
            "needs_background": "light"
          }
        }
      ]
    },
    {
      "cell_type": "code",
      "execution_count": null,
      "metadata": {
        "colab": {
          "base_uri": "https://localhost:8080/",
          "height": 295
        },
        "outputId": "62cea856-60aa-4a87-9af1-ec3728648aa7",
        "id": "35JmU5_RxnLQ"
      },
      "outputs": [
        {
          "output_type": "display_data",
          "data": {
            "text/plain": [
              "<Figure size 432x288 with 1 Axes>"
            ],
            "image/png": "[encoded data removed]"
          },
          "metadata": {
            "needs_background": "light"
          }
        }
      ],
      "source": [
        "import pandas as pd\n",
        "import matplotlib.pyplot as plt\n",
        "import numpy as np\n",
        "\n",
        "\n",
        "plt.hist(x=df.comboName,bins=np.arange(4+1)-0.5,\n",
        "        color=\"steelblue\",\n",
        "        edgecolor=\"black\")\n",
        "\n",
        "plt.xlabel(\"Combo Name\")\n",
        "plt.ylabel(\"Use Times\")\n",
        "\n",
        "plt.title(\"Combo Used in the Game\")\n",
        "plt.savefig('./combo_count.png', format='png')\n",
        "plt.show()\n"
      ]
    }
  ]
}